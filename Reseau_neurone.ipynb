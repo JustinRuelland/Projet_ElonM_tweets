{
 "cells": [
  {
   "cell_type": "code",
   "execution_count": 7,
   "id": "daily-footage",
   "metadata": {},
   "outputs": [],
   "source": [
    "import tensorflow as tf\n",
    "import numpy as np\n",
    "import pandas as pd\n",
    "import sys\n",
    "import matplotlib.pyplot as plt\n",
    "import os"
   ]
  },
  {
   "cell_type": "code",
   "execution_count": 8,
   "id": "charged-honolulu",
   "metadata": {},
   "outputs": [
    {
     "name": "stdout",
     "output_type": "stream",
     "text": [
      "['Untitled1.ipynb', 'FinalDBelon.csv', 'Data_train.csv', 'DataNONEL_clean.csv', 'Untitled.ipynb', 'Clean_Tweets_EM.ipynb', 'README.md', 'Tweets_Not_ElonMusk.csv', 'DataBase.csv', '.gitignore', 'DataElon_clean.csv', 'Vectorisation.ipynb', '.ipynb_checkpoints', 'Label_train.csv', 'Clean_Tweets_NONEM.ipynb', '.git', 'TweetsElonMusk.csv']\n"
     ]
    }
   ],
   "source": [
    "arr = os.listdir('.')\n",
    "print(arr)"
   ]
  },
  {
   "cell_type": "code",
   "execution_count": 9,
   "id": "inclusive-engagement",
   "metadata": {},
   "outputs": [],
   "source": [
    "assert hasattr(tf, 'function')"
   ]
  },
  {
   "cell_type": "code",
   "execution_count": 10,
   "id": "academic-jefferson",
   "metadata": {},
   "outputs": [],
   "source": [
    "Data_train = pd.read_csv(\"Data_train.csv\")\n",
    "Label_train = pd.read_csv(\"Label_train.csv\")"
   ]
  },
  {
   "cell_type": "code",
   "execution_count": 86,
   "id": "serious-panic",
   "metadata": {},
   "outputs": [
    {
     "name": "stdout",
     "output_type": "stream",
     "text": [
      "1\n"
     ]
    }
   ],
   "source": [
    "Data_train.shape\n",
    "\n",
    "print(Label_train.loc[0, 'label'])"
   ]
  },
  {
   "cell_type": "code",
   "execution_count": 202,
   "id": "abstract-athens",
   "metadata": {},
   "outputs": [],
   "source": [
    "model = tf.keras.models.Sequential()\n",
    "#model.add(tf.keras.layers.Flatten(input_shape=[1, 961]))\n",
    "\n",
    "model.add(tf.keras.layers.Dense(256, activation=\"relu\"))\n",
    "model.add(tf.keras.layers.Dense(128, activation=\"relu\"))\n",
    "model.add(tf.keras.layers.Dense(2, activation=\"softmax\"))\n",
    "\n",
    "# La prediction : model_output = model.predict(Tweet)"
   ]
  },
  {
   "cell_type": "code",
   "execution_count": 163,
   "id": "strange-exhibit",
   "metadata": {},
   "outputs": [
    {
     "data": {
      "text/plain": [
       "(11130, 961)"
      ]
     },
     "execution_count": 163,
     "metadata": {},
     "output_type": "execute_result"
    }
   ],
   "source": [
    "Tweet_1 = Data_train.values\n",
    "Tweet_1.shape"
   ]
  },
  {
   "cell_type": "code",
   "execution_count": 196,
   "id": "headed-patent",
   "metadata": {},
   "outputs": [],
   "source": [
    "Tweet_2 = Tweet_1.astype(dtype='float32')"
   ]
  },
  {
   "cell_type": "code",
   "execution_count": 211,
   "id": "aerial-metabolism",
   "metadata": {},
   "outputs": [
    {
     "data": {
      "text/plain": [
       "(11130, 1)"
      ]
     },
     "execution_count": 211,
     "metadata": {},
     "output_type": "execute_result"
    }
   ],
   "source": [
    "Label_1 = Label_train.values\n",
    "Label_1.shape"
   ]
  },
  {
   "cell_type": "code",
   "execution_count": 228,
   "id": "forward-joyce",
   "metadata": {},
   "outputs": [],
   "source": [
    "Label_2 = Label_1[:,0].astype(dtype='uint8')"
   ]
  },
  {
   "cell_type": "code",
   "execution_count": 231,
   "id": "christian-phase",
   "metadata": {},
   "outputs": [
    {
     "data": {
      "text/plain": [
       "array([[0.493116  , 0.5068841 ],\n",
       "       [0.48549724, 0.5145028 ],\n",
       "       [0.4950072 , 0.5049928 ],\n",
       "       ...,\n",
       "       [0.46324983, 0.53675014],\n",
       "       [0.48198888, 0.51801115],\n",
       "       [0.47764513, 0.5223549 ]], dtype=float32)"
      ]
     },
     "execution_count": 231,
     "metadata": {},
     "output_type": "execute_result"
    }
   ],
   "source": [
    "model.predict(Tweet_2)"
   ]
  },
  {
   "cell_type": "code",
   "execution_count": 232,
   "id": "advanced-roller",
   "metadata": {},
   "outputs": [
    {
     "name": "stdout",
     "output_type": "stream",
     "text": [
      "Model: \"sequential_22\"\n",
      "_________________________________________________________________\n",
      " Layer (type)                Output Shape              Param #   \n",
      "=================================================================\n",
      " dense_38 (Dense)            (None, 256)               246272    \n",
      "                                                                 \n",
      " dense_39 (Dense)            (None, 128)               32896     \n",
      "                                                                 \n",
      " dense_40 (Dense)            (None, 2)                 258       \n",
      "                                                                 \n",
      "=================================================================\n",
      "Total params: 279,426\n",
      "Trainable params: 279,426\n",
      "Non-trainable params: 0\n",
      "_________________________________________________________________\n"
     ]
    }
   ],
   "source": [
    "model.summary()"
   ]
  },
  {
   "cell_type": "code",
   "execution_count": 234,
   "id": "mechanical-blank",
   "metadata": {},
   "outputs": [],
   "source": [
    "model.compile(loss=\"sparse_categorical_crossentropy\", optimizer=\"sgd\", metrics=[\"accuracy\"])"
   ]
  },
  {
   "cell_type": "code",
   "execution_count": 236,
   "id": "interracial-accountability",
   "metadata": {},
   "outputs": [
    {
     "name": "stdout",
     "output_type": "stream",
     "text": [
      "Epoch 1/15\n",
      "348/348 [==============================] - 0s 1ms/step - loss: 0.3225 - accuracy: 0.8606\n",
      "Epoch 2/15\n",
      "348/348 [==============================] - 0s 1ms/step - loss: 0.3086 - accuracy: 0.8677\n",
      "Epoch 3/15\n",
      "348/348 [==============================] - 0s 1ms/step - loss: 0.2961 - accuracy: 0.8727\n",
      "Epoch 4/15\n",
      "348/348 [==============================] - 0s 1ms/step - loss: 0.2867 - accuracy: 0.8774\n",
      "Epoch 5/15\n",
      "348/348 [==============================] - 0s 1ms/step - loss: 0.2776 - accuracy: 0.8803\n",
      "Epoch 6/15\n",
      "348/348 [==============================] - 0s 1ms/step - loss: 0.2695 - accuracy: 0.8832\n",
      "Epoch 7/15\n",
      "348/348 [==============================] - 0s 1ms/step - loss: 0.2627 - accuracy: 0.8867\n",
      "Epoch 8/15\n",
      "348/348 [==============================] - 0s 1ms/step - loss: 0.2568 - accuracy: 0.8902\n",
      "Epoch 9/15\n",
      "348/348 [==============================] - 0s 1ms/step - loss: 0.2509 - accuracy: 0.8926\n",
      "Epoch 10/15\n",
      "348/348 [==============================] - 0s 1ms/step - loss: 0.2464 - accuracy: 0.8943\n",
      "Epoch 11/15\n",
      "348/348 [==============================] - 0s 1ms/step - loss: 0.2412 - accuracy: 0.8969\n",
      "Epoch 12/15\n",
      "348/348 [==============================] - 0s 1ms/step - loss: 0.2381 - accuracy: 0.8974\n",
      "Epoch 13/15\n",
      "348/348 [==============================] - 0s 1ms/step - loss: 0.2336 - accuracy: 0.9016\n",
      "Epoch 14/15\n",
      "348/348 [==============================] - 0s 1ms/step - loss: 0.2300 - accuracy: 0.9024\n",
      "Epoch 15/15\n",
      "348/348 [==============================] - 0s 1ms/step - loss: 0.2266 - accuracy: 0.9033\n"
     ]
    },
    {
     "data": {
      "text/plain": [
       "<keras.callbacks.History at 0x15f74d6d0>"
      ]
     },
     "execution_count": 236,
     "metadata": {},
     "output_type": "execute_result"
    }
   ],
   "source": [
    "model.fit(Tweet_2, Label_2, epochs=15)"
   ]
  },
  {
   "cell_type": "code",
   "execution_count": 241,
   "id": "noted-bikini",
   "metadata": {},
   "outputs": [
    {
     "data": {
      "text/plain": [
       "array([[0.98605657, 0.01394342]], dtype=float32)"
      ]
     },
     "execution_count": 241,
     "metadata": {},
     "output_type": "execute_result"
    }
   ],
   "source": [
    "model.predict(Tweet[7000:7001])"
   ]
  },
  {
   "cell_type": "code",
   "execution_count": null,
   "id": "welcome-globe",
   "metadata": {},
   "outputs": [],
   "source": []
  }
 ],
 "metadata": {
  "kernelspec": {
   "display_name": "Python 3",
   "language": "python",
   "name": "python3"
  },
  "language_info": {
   "codemirror_mode": {
    "name": "ipython",
    "version": 3
   },
   "file_extension": ".py",
   "mimetype": "text/x-python",
   "name": "python",
   "nbconvert_exporter": "python",
   "pygments_lexer": "ipython3",
   "version": "3.9.1"
  }
 },
 "nbformat": 4,
 "nbformat_minor": 5
}
