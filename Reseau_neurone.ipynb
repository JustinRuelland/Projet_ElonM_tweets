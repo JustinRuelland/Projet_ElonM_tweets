{
 "cells": [
  {
   "cell_type": "code",
   "execution_count": 387,
   "id": "roman-hughes",
   "metadata": {},
   "outputs": [
    {
     "name": "stderr",
     "output_type": "stream",
     "text": [
      "Since the GPL-licensed package `unidecode` is not installed, using Python's `unicodedata` package which yields worse results.\n"
     ]
    }
   ],
   "source": [
    "import tensorflow as tf\n",
    "import numpy as np\n",
    "import pandas as pd\n",
    "import sys\n",
    "import matplotlib.pyplot as plt\n",
    "import os\n",
    "from cleantext import clean"
   ]
  },
  {
   "cell_type": "code",
   "execution_count": 258,
   "id": "broadband-master",
   "metadata": {},
   "outputs": [],
   "source": [
    "from pandas import DataFrame"
   ]
  },
  {
   "cell_type": "code",
   "execution_count": 8,
   "id": "silver-cornwall",
   "metadata": {},
   "outputs": [
    {
     "name": "stdout",
     "output_type": "stream",
     "text": [
      "['Untitled1.ipynb', 'FinalDBelon.csv', 'Data_train.csv', 'DataNONEL_clean.csv', 'Untitled.ipynb', 'Clean_Tweets_EM.ipynb', 'README.md', 'Tweets_Not_ElonMusk.csv', 'DataBase.csv', '.gitignore', 'DataElon_clean.csv', 'Vectorisation.ipynb', '.ipynb_checkpoints', 'Label_train.csv', 'Clean_Tweets_NONEM.ipynb', '.git', 'TweetsElonMusk.csv']\n"
     ]
    }
   ],
   "source": [
    "arr = os.listdir('.')\n",
    "print(arr)"
   ]
  },
  {
   "cell_type": "code",
   "execution_count": 9,
   "id": "surprising-admission",
   "metadata": {},
   "outputs": [],
   "source": [
    "assert hasattr(tf, 'function')"
   ]
  },
  {
   "cell_type": "code",
   "execution_count": 10,
   "id": "bizarre-country",
   "metadata": {},
   "outputs": [],
   "source": [
    "Data_train = pd.read_csv(\"Data_train.csv\")\n",
    "Label_train = pd.read_csv(\"Label_train.csv\")"
   ]
  },
  {
   "cell_type": "code",
   "execution_count": 364,
   "id": "sacred-ranch",
   "metadata": {},
   "outputs": [],
   "source": [
    "def Construction_modele(Data_train, Label_train):\n",
    "    #Construction couche de neurones\n",
    "    model = tf.keras.models.Sequential()\n",
    "    model.add(tf.keras.layers.Dense(256, activation=\"relu\"))\n",
    "    model.add(tf.keras.layers.Dense(128, activation=\"relu\"))\n",
    "    model.add(tf.keras.layers.Dense(2, activation=\"softmax\"))\n",
    "    #Mise au bon format des donnes pour le modele\n",
    "    Tweet_1 = Data_train.values\n",
    "    Tweet_2 = Tweet_1.astype(dtype='float32')\n",
    "    Label_1 = Label_train.values\n",
    "    Label_2 = Label_1[:,0].astype(dtype='uint8')\n",
    "    #Ajustement modele et choix de metrique\n",
    "    model.compile(loss=\"sparse_categorical_crossentropy\", optimizer=\"sgd\", metrics=[\"accuracy\"])\n",
    "    #Entrainement du modele\n",
    "    model.fit(Tweet_2, Label_2, epochs=18)\n",
    "    return model"
   ]
  },
  {
   "cell_type": "code",
   "execution_count": 365,
   "id": "ranging-latter",
   "metadata": {},
   "outputs": [
    {
     "name": "stdout",
     "output_type": "stream",
     "text": [
      "Epoch 1/18\n",
      "348/348 [==============================] - 1s 1ms/step - loss: 0.6875 - accuracy: 0.5474\n",
      "Epoch 2/18\n",
      "348/348 [==============================] - 1s 2ms/step - loss: 0.6699 - accuracy: 0.6452\n",
      "Epoch 3/18\n",
      "348/348 [==============================] - 1s 2ms/step - loss: 0.6411 - accuracy: 0.7257\n",
      "Epoch 4/18\n",
      "348/348 [==============================] - 0s 1ms/step - loss: 0.5949 - accuracy: 0.7583\n",
      "Epoch 5/18\n",
      "348/348 [==============================] - 0s 1ms/step - loss: 0.5353 - accuracy: 0.7780\n",
      "Epoch 6/18\n",
      "348/348 [==============================] - 1s 2ms/step - loss: 0.4780 - accuracy: 0.7981\n",
      "Epoch 7/18\n",
      "348/348 [==============================] - 1s 2ms/step - loss: 0.4309 - accuracy: 0.8189\n",
      "Epoch 8/18\n",
      "348/348 [==============================] - 1s 2ms/step - loss: 0.3949 - accuracy: 0.8333\n",
      "Epoch 9/18\n",
      "348/348 [==============================] - 0s 1ms/step - loss: 0.3669 - accuracy: 0.8440\n",
      "Epoch 10/18\n",
      "348/348 [==============================] - 0s 1ms/step - loss: 0.3452 - accuracy: 0.8531\n",
      "Epoch 11/18\n",
      "348/348 [==============================] - 1s 2ms/step - loss: 0.3271 - accuracy: 0.8606\n",
      "Epoch 12/18\n",
      "348/348 [==============================] - 0s 1ms/step - loss: 0.3122 - accuracy: 0.8671\n",
      "Epoch 13/18\n",
      "348/348 [==============================] - 1s 2ms/step - loss: 0.3004 - accuracy: 0.8710\n",
      "Epoch 14/18\n",
      "348/348 [==============================] - 1s 2ms/step - loss: 0.2896 - accuracy: 0.8753\n",
      "Epoch 15/18\n",
      "348/348 [==============================] - 0s 1ms/step - loss: 0.2798 - accuracy: 0.8803\n",
      "Epoch 16/18\n",
      "348/348 [==============================] - 1s 2ms/step - loss: 0.2720 - accuracy: 0.8836\n",
      "Epoch 17/18\n",
      "348/348 [==============================] - 1s 2ms/step - loss: 0.2643 - accuracy: 0.8855\n",
      "Epoch 18/18\n",
      "348/348 [==============================] - 1s 2ms/step - loss: 0.2574 - accuracy: 0.8907\n"
     ]
    }
   ],
   "source": [
    "modelll = Construction_modele(Data_train, Label_train)"
   ]
  },
  {
   "cell_type": "code",
   "execution_count": 86,
   "id": "loose-evidence",
   "metadata": {},
   "outputs": [
    {
     "name": "stdout",
     "output_type": "stream",
     "text": [
      "1\n"
     ]
    }
   ],
   "source": [
    "Data_train.shape\n",
    "\n",
    "print(Label_train.loc[0, 'label'])"
   ]
  },
  {
   "cell_type": "code",
   "execution_count": 202,
   "id": "identified-monthly",
   "metadata": {},
   "outputs": [],
   "source": [
    "model = tf.keras.models.Sequential()\n",
    "#model.add(tf.keras.layers.Flatten(input_shape=[1, 961]))\n",
    "\n",
    "model.add(tf.keras.layers.Dense(256, activation=\"relu\"))\n",
    "model.add(tf.keras.layers.Dense(128, activation=\"relu\"))\n",
    "model.add(tf.keras.layers.Dense(2, activation=\"softmax\"))\n",
    "\n",
    "# La prediction : model_output = model.predict(Tweet)"
   ]
  },
  {
   "cell_type": "code",
   "execution_count": 163,
   "id": "combined-entrance",
   "metadata": {},
   "outputs": [
    {
     "data": {
      "text/plain": [
       "(11130, 961)"
      ]
     },
     "execution_count": 163,
     "metadata": {},
     "output_type": "execute_result"
    }
   ],
   "source": [
    "Tweet_1 = Data_train.values\n",
    "Tweet_1.shape"
   ]
  },
  {
   "cell_type": "code",
   "execution_count": 196,
   "id": "delayed-boundary",
   "metadata": {},
   "outputs": [],
   "source": [
    "Tweet_2 = Tweet_1.astype(dtype='float32')"
   ]
  },
  {
   "cell_type": "code",
   "execution_count": 211,
   "id": "dominican-ministry",
   "metadata": {},
   "outputs": [
    {
     "data": {
      "text/plain": [
       "(11130, 1)"
      ]
     },
     "execution_count": 211,
     "metadata": {},
     "output_type": "execute_result"
    }
   ],
   "source": [
    "Label_1 = Label_train.values\n",
    "Label_1.shape"
   ]
  },
  {
   "cell_type": "code",
   "execution_count": 228,
   "id": "organized-remove",
   "metadata": {},
   "outputs": [],
   "source": [
    "Label_2 = Label_1[:,0].astype(dtype='uint8')"
   ]
  },
  {
   "cell_type": "code",
   "execution_count": 231,
   "id": "hired-bolivia",
   "metadata": {},
   "outputs": [
    {
     "data": {
      "text/plain": [
       "array([[0.493116  , 0.5068841 ],\n",
       "       [0.48549724, 0.5145028 ],\n",
       "       [0.4950072 , 0.5049928 ],\n",
       "       ...,\n",
       "       [0.46324983, 0.53675014],\n",
       "       [0.48198888, 0.51801115],\n",
       "       [0.47764513, 0.5223549 ]], dtype=float32)"
      ]
     },
     "execution_count": 231,
     "metadata": {},
     "output_type": "execute_result"
    }
   ],
   "source": [
    "model.predict(Tweet_2)"
   ]
  },
  {
   "cell_type": "code",
   "execution_count": 232,
   "id": "objective-plant",
   "metadata": {},
   "outputs": [
    {
     "name": "stdout",
     "output_type": "stream",
     "text": [
      "Model: \"sequential_22\"\n",
      "_________________________________________________________________\n",
      " Layer (type)                Output Shape              Param #   \n",
      "=================================================================\n",
      " dense_38 (Dense)            (None, 256)               246272    \n",
      "                                                                 \n",
      " dense_39 (Dense)            (None, 128)               32896     \n",
      "                                                                 \n",
      " dense_40 (Dense)            (None, 2)                 258       \n",
      "                                                                 \n",
      "=================================================================\n",
      "Total params: 279,426\n",
      "Trainable params: 279,426\n",
      "Non-trainable params: 0\n",
      "_________________________________________________________________\n"
     ]
    }
   ],
   "source": [
    "model.summary()"
   ]
  },
  {
   "cell_type": "code",
   "execution_count": 234,
   "id": "attended-sydney",
   "metadata": {},
   "outputs": [],
   "source": [
    "model.compile(loss=\"sparse_categorical_crossentropy\", optimizer=\"sgd\", metrics=[\"accuracy\"])"
   ]
  },
  {
   "cell_type": "code",
   "execution_count": 236,
   "id": "willing-pulse",
   "metadata": {
    "scrolled": false
   },
   "outputs": [
    {
     "name": "stdout",
     "output_type": "stream",
     "text": [
      "Epoch 1/15\n",
      "348/348 [==============================] - 0s 1ms/step - loss: 0.3225 - accuracy: 0.8606\n",
      "Epoch 2/15\n",
      "348/348 [==============================] - 0s 1ms/step - loss: 0.3086 - accuracy: 0.8677\n",
      "Epoch 3/15\n",
      "348/348 [==============================] - 0s 1ms/step - loss: 0.2961 - accuracy: 0.8727\n",
      "Epoch 4/15\n",
      "348/348 [==============================] - 0s 1ms/step - loss: 0.2867 - accuracy: 0.8774\n",
      "Epoch 5/15\n",
      "348/348 [==============================] - 0s 1ms/step - loss: 0.2776 - accuracy: 0.8803\n",
      "Epoch 6/15\n",
      "348/348 [==============================] - 0s 1ms/step - loss: 0.2695 - accuracy: 0.8832\n",
      "Epoch 7/15\n",
      "348/348 [==============================] - 0s 1ms/step - loss: 0.2627 - accuracy: 0.8867\n",
      "Epoch 8/15\n",
      "348/348 [==============================] - 0s 1ms/step - loss: 0.2568 - accuracy: 0.8902\n",
      "Epoch 9/15\n",
      "348/348 [==============================] - 0s 1ms/step - loss: 0.2509 - accuracy: 0.8926\n",
      "Epoch 10/15\n",
      "348/348 [==============================] - 0s 1ms/step - loss: 0.2464 - accuracy: 0.8943\n",
      "Epoch 11/15\n",
      "348/348 [==============================] - 0s 1ms/step - loss: 0.2412 - accuracy: 0.8969\n",
      "Epoch 12/15\n",
      "348/348 [==============================] - 0s 1ms/step - loss: 0.2381 - accuracy: 0.8974\n",
      "Epoch 13/15\n",
      "348/348 [==============================] - 0s 1ms/step - loss: 0.2336 - accuracy: 0.9016\n",
      "Epoch 14/15\n",
      "348/348 [==============================] - 0s 1ms/step - loss: 0.2300 - accuracy: 0.9024\n",
      "Epoch 15/15\n",
      "348/348 [==============================] - 0s 1ms/step - loss: 0.2266 - accuracy: 0.9033\n"
     ]
    },
    {
     "data": {
      "text/plain": [
       "<keras.callbacks.History at 0x15f74d6d0>"
      ]
     },
     "execution_count": 236,
     "metadata": {},
     "output_type": "execute_result"
    }
   ],
   "source": [
    "model.fit(Tweet_2, Label_2, epochs=15)"
   ]
  },
  {
   "cell_type": "code",
   "execution_count": 249,
   "id": "judicial-adoption",
   "metadata": {},
   "outputs": [
    {
     "data": {
      "text/plain": [
       "array([[0.98605657, 0.01394342]], dtype=float32)"
      ]
     },
     "execution_count": 249,
     "metadata": {},
     "output_type": "execute_result"
    }
   ],
   "source": [
    "model.predict(Tweet_2[7000:7001])"
   ]
  },
  {
   "cell_type": "code",
   "execution_count": 255,
   "id": "corrected-pound",
   "metadata": {
    "scrolled": true
   },
   "outputs": [
    {
     "data": {
      "text/plain": [
       "True"
      ]
     },
     "execution_count": 255,
     "metadata": {},
     "output_type": "execute_result"
    }
   ],
   "source": [
    "'federal' in Data_train.columns"
   ]
  },
  {
   "cell_type": "code",
   "execution_count": 251,
   "id": "difficult-contrary",
   "metadata": {},
   "outputs": [
    {
     "data": {
      "text/plain": [
       "['hello', 'my', 'name', 'is', '', '', 'elon']"
      ]
     },
     "execution_count": 251,
     "metadata": {},
     "output_type": "execute_result"
    }
   ],
   "source": [
    "T = \"hello my name is   elon\"\n",
    "Texte = T.split(\" \")\n",
    "Texte"
   ]
  },
  {
   "cell_type": "code",
   "execution_count": 252,
   "id": "color-genius",
   "metadata": {},
   "outputs": [
    {
     "name": "stdout",
     "output_type": "stream",
     "text": [
      "Index =  0  Value =  hello\n",
      "Index =  1  Value =  my\n",
      "Index =  2  Value =  name\n",
      "Index =  3  Value =  is\n",
      "Index =  4  Value =  \n",
      "Index =  5  Value =  \n",
      "Index =  6  Value =  elon\n"
     ]
    }
   ],
   "source": [
    "for index, value in enumerate(Texte):\n",
    "    print(\"Index = \", index, \" Value = \", value)"
   ]
  },
  {
   "cell_type": "code",
   "execution_count": 326,
   "id": "composite-cream",
   "metadata": {},
   "outputs": [],
   "source": [
    "def Vectorisation(Data_train, tweet):   #prend un tweet en argument sous la forme d'une string et renvoi son vecteur sous forme d'une database dans l espace vectoriel de la matrice\n",
    "    Vecteurs = Data_train.columns\n",
    "    row = []\n",
    "    \n",
    "    dictionnary = dict()\n",
    "    for mot in Vecteurs:\n",
    "        dictionnary[mot] = 0\n",
    "    \n",
    "    Mot_tweet = tweet.split(\" \")\n",
    "    \n",
    "    for index, mot in enumerate(Mot_tweet):\n",
    "            if mot in Vecteurs:\n",
    "                dictionnary[mot] = index + 1\n",
    "                \n",
    "    row.append(dictionnary)\n",
    "    Data_out = DataFrame(row)\n",
    "    \n",
    "    if Data_out.loc[0].max() != 0:\n",
    "        Data_out.loc[0] = Data_out.loc[0] / Data_out.loc[0].max()\n",
    "    \n",
    "    return Data_out\n",
    "    \n",
    "    \n",
    "    "
   ]
  },
  {
   "cell_type": "markdown",
   "id": "perfect-damage",
   "metadata": {},
   "source": [
    "La fonction detection prend en argument un tweet sous la forme d'un string, le reseau de neurone entraine et la base de donnee d entrainement utilise pour vectorizer le tweet. La fonction renvoi un tuple de la forme\n",
    "\\\n",
    "\\\n",
    "(\"Elon Musk detecte a x%\", 1)\n",
    "\\\n",
    "(\"Indetermine\", 2)\n",
    "\\\n",
    "(\"Pas Elon Musk a x%\", 0)\n",
    "\\\n",
    "\\\n",
    "1 est renvoye ssi x >= 60%\n",
    "\\\n",
    "0 est renvoye ssi x >= 60%\n",
    "\\\n",
    "2 est renvoye ssi la probabilite que ce soit Elon Musk (ou non) soit comprise entre 40% et 60%"
   ]
  },
  {
   "cell_type": "code",
   "execution_count": 388,
   "id": "alert-technology",
   "metadata": {},
   "outputs": [],
   "source": [
    "def detection(tweet_sentence, model_neurone, Data_train):\n",
    "    tweet_sentence = tweet_sentence.lower()\n",
    "    tweet_sentence = clean(tweet_sentence, no_emoji=True, no_punct=True, no_urls = True, replace_with_url='', no_digits=True, replace_with_digit='', no_currency_symbols=True, replace_with_currency_symbol='')\n",
    "    vecteur_phrase = Vectorisation(Data_train, tweet_sentence)\n",
    "    vecteur = vecteur_phrase.values\n",
    "    vecteur = vecteur.astype(dtype='float32')\n",
    "    if vecteur.sum() == 0:\n",
    "        char = \"Indetermine\"\n",
    "        return (char, 2)\n",
    "    Prediction = model_neurone.predict(vecteur)\n",
    "    if Prediction[0, 1] >= 0.6:\n",
    "        char = \"Elon Musk detecte a \" + str(Prediction[0, 1]) + \"%\"\n",
    "        return (char, 1)\n",
    "    elif Prediction[0,1] >= 0.4:\n",
    "        char = \"Indetermine\"\n",
    "        return (char, 2)\n",
    "    else :\n",
    "        char = \"Pas Elon Musk a \" + str(Prediction[0, 0]) + \"%\"\n",
    "        return (char, 0)"
   ]
  },
  {
   "cell_type": "code",
   "execution_count": 377,
   "id": "legendary-prospect",
   "metadata": {},
   "outputs": [
    {
     "data": {
      "text/plain": [
       "5.9411764"
      ]
     },
     "execution_count": 377,
     "metadata": {},
     "output_type": "execute_result"
    }
   ],
   "source": [
    "Tweet_4.sum()"
   ]
  },
  {
   "cell_type": "code",
   "execution_count": null,
   "id": "convinced-challenge",
   "metadata": {},
   "outputs": [],
   "source": []
  },
  {
   "cell_type": "code",
   "execution_count": null,
   "id": "minute-excerpt",
   "metadata": {},
   "outputs": [],
   "source": [
    "def detection_apprentissage(tweet_sentence, model_neurone, Data_train):\n",
    "    "
   ]
  },
  {
   "cell_type": "code",
   "execution_count": 390,
   "id": "dietary-price",
   "metadata": {},
   "outputs": [
    {
     "data": {
      "text/plain": [
       "('Elon Musk detecte a 0.94442517%', 1)"
      ]
     },
     "execution_count": 390,
     "metadata": {},
     "output_type": "execute_result"
    }
   ],
   "source": [
    "phrase = 'Space'\n",
    "detection(phrase, model, Data_train)"
   ]
  },
  {
   "cell_type": "code",
   "execution_count": 352,
   "id": "regulation-shepherd",
   "metadata": {},
   "outputs": [],
   "source": [
    "Tweet_3 = vecteur_phrase.values\n",
    "Tweet_4 = Tweet_3.astype(dtype='float32')"
   ]
  },
  {
   "cell_type": "code",
   "execution_count": 353,
   "id": "electoral-relative",
   "metadata": {},
   "outputs": [],
   "source": [
    "MMM = model.predict(Tweet_4)"
   ]
  },
  {
   "cell_type": "code",
   "execution_count": 348,
   "id": "regulation-theme",
   "metadata": {},
   "outputs": [
    {
     "data": {
      "text/plain": [
       "0.98260164"
      ]
     },
     "execution_count": 348,
     "metadata": {},
     "output_type": "execute_result"
    }
   ],
   "source": [
    "MMM[0,1]"
   ]
  },
  {
   "cell_type": "code",
   "execution_count": 254,
   "id": "upset-literature",
   "metadata": {},
   "outputs": [
    {
     "data": {
      "text/plain": [
       "1"
      ]
     },
     "execution_count": 254,
     "metadata": {},
     "output_type": "execute_result"
    }
   ],
   "source": [
    "int(True)"
   ]
  }
 ],
 "metadata": {
  "kernelspec": {
   "display_name": "Python 3",
   "language": "python",
   "name": "python3"
  },
  "language_info": {
   "codemirror_mode": {
    "name": "ipython",
    "version": 3
   },
   "file_extension": ".py",
   "mimetype": "text/x-python",
   "name": "python",
   "nbconvert_exporter": "python",
   "pygments_lexer": "ipython3",
   "version": "3.9.1"
  }
 },
 "nbformat": 4,
 "nbformat_minor": 5
}
