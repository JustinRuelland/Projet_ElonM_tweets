{
 "cells": [
  {
   "cell_type": "code",
   "execution_count": 7,
   "id": "raising-secretary",
   "metadata": {},
   "outputs": [],
   "source": [
    "import tensorflow as tf\n",
    "import numpy as np\n",
    "import pandas as pd\n",
    "import sys\n",
    "import matplotlib.pyplot as plt\n",
    "import os"
   ]
  },
  {
   "cell_type": "code",
   "execution_count": 8,
   "id": "jewish-trader",
   "metadata": {},
   "outputs": [
    {
     "name": "stdout",
     "output_type": "stream",
     "text": [
      "['Untitled1.ipynb', 'FinalDBelon.csv', 'Data_train.csv', 'DataNONEL_clean.csv', 'Untitled.ipynb', 'Clean_Tweets_EM.ipynb', 'README.md', 'Tweets_Not_ElonMusk.csv', 'DataBase.csv', '.gitignore', 'DataElon_clean.csv', 'Vectorisation.ipynb', '.ipynb_checkpoints', 'Label_train.csv', 'Clean_Tweets_NONEM.ipynb', '.git', 'TweetsElonMusk.csv']\n"
     ]
    }
   ],
   "source": [
    "arr = os.listdir('.')\n",
    "print(arr)"
   ]
  },
  {
   "cell_type": "code",
   "execution_count": 9,
   "id": "sublime-venezuela",
   "metadata": {},
   "outputs": [],
   "source": [
    "assert hasattr(tf, 'function')"
   ]
  },
  {
   "cell_type": "code",
   "execution_count": 10,
   "id": "crucial-douglas",
   "metadata": {},
   "outputs": [],
   "source": [
    "Data_train = pd.read_csv(\"Data_train.csv\")\n",
    "Label_train = pd.read_csv(\"Label_train.csv\")"
   ]
  },
  {
   "cell_type": "code",
   "execution_count": 86,
   "id": "talented-newman",
   "metadata": {},
   "outputs": [
    {
     "name": "stdout",
     "output_type": "stream",
     "text": [
      "1\n"
     ]
    }
   ],
   "source": [
    "Data_train.shape\n",
    "\n",
    "print(Label_train.loc[0, 'label'])"
   ]
  },
  {
   "cell_type": "code",
   "execution_count": 202,
   "id": "improved-linux",
   "metadata": {},
   "outputs": [],
   "source": [
    "model = tf.keras.models.Sequential()\n",
    "#model.add(tf.keras.layers.Flatten(input_shape=[1, 961]))\n",
    "\n",
    "model.add(tf.keras.layers.Dense(256, activation=\"relu\"))\n",
    "model.add(tf.keras.layers.Dense(128, activation=\"relu\"))\n",
    "model.add(tf.keras.layers.Dense(2, activation=\"softmax\"))\n",
    "\n",
    "# La prediction : model_output = model.predict(Tweet)"
   ]
  },
  {
   "cell_type": "code",
   "execution_count": 163,
   "id": "fifty-medicine",
   "metadata": {},
   "outputs": [
    {
     "data": {
      "text/plain": [
       "(11130, 961)"
      ]
     },
     "execution_count": 163,
     "metadata": {},
     "output_type": "execute_result"
    }
   ],
   "source": [
    "Tweet_1 = Data_train.values\n",
    "Tweet_1.shape"
   ]
  },
  {
   "cell_type": "code",
   "execution_count": 196,
   "id": "amazing-buffer",
   "metadata": {},
   "outputs": [],
   "source": [
    "Tweet_2 = Tweet_1.astype(dtype='float32')"
   ]
  },
  {
   "cell_type": "code",
   "execution_count": 211,
   "id": "finished-thompson",
   "metadata": {},
   "outputs": [
    {
     "data": {
      "text/plain": [
       "(11130, 1)"
      ]
     },
     "execution_count": 211,
     "metadata": {},
     "output_type": "execute_result"
    }
   ],
   "source": [
    "Label_1 = Label_train.values\n",
    "Label_1.shape"
   ]
  },
  {
   "cell_type": "code",
   "execution_count": 228,
   "id": "starting-chick",
   "metadata": {},
   "outputs": [],
   "source": [
    "Label_2 = Label_1[:,0].astype(dtype='uint8')"
   ]
  },
  {
   "cell_type": "code",
   "execution_count": 231,
   "id": "known-dover",
   "metadata": {},
   "outputs": [
    {
     "data": {
      "text/plain": [
       "array([[0.493116  , 0.5068841 ],\n",
       "       [0.48549724, 0.5145028 ],\n",
       "       [0.4950072 , 0.5049928 ],\n",
       "       ...,\n",
       "       [0.46324983, 0.53675014],\n",
       "       [0.48198888, 0.51801115],\n",
       "       [0.47764513, 0.5223549 ]], dtype=float32)"
      ]
     },
     "execution_count": 231,
     "metadata": {},
     "output_type": "execute_result"
    }
   ],
   "source": [
    "model.predict(Tweet_2)"
   ]
  },
  {
   "cell_type": "code",
   "execution_count": 232,
   "id": "colored-command",
   "metadata": {},
   "outputs": [
    {
     "name": "stdout",
     "output_type": "stream",
     "text": [
      "Model: \"sequential_22\"\n",
      "_________________________________________________________________\n",
      " Layer (type)                Output Shape              Param #   \n",
      "=================================================================\n",
      " dense_38 (Dense)            (None, 256)               246272    \n",
      "                                                                 \n",
      " dense_39 (Dense)            (None, 128)               32896     \n",
      "                                                                 \n",
      " dense_40 (Dense)            (None, 2)                 258       \n",
      "                                                                 \n",
      "=================================================================\n",
      "Total params: 279,426\n",
      "Trainable params: 279,426\n",
      "Non-trainable params: 0\n",
      "_________________________________________________________________\n"
     ]
    }
   ],
   "source": [
    "model.summary()"
   ]
  },
  {
   "cell_type": "code",
   "execution_count": 234,
   "id": "green-hurricane",
   "metadata": {},
   "outputs": [],
   "source": [
    "model.compile(loss=\"sparse_categorical_crossentropy\", optimizer=\"sgd\", metrics=[\"accuracy\"])"
   ]
  },
  {
   "cell_type": "code",
   "execution_count": 236,
   "id": "future-rental",
   "metadata": {
    "scrolled": false
   },
   "outputs": [
    {
     "name": "stdout",
     "output_type": "stream",
     "text": [
      "Epoch 1/15\n",
      "348/348 [==============================] - 0s 1ms/step - loss: 0.3225 - accuracy: 0.8606\n",
      "Epoch 2/15\n",
      "348/348 [==============================] - 0s 1ms/step - loss: 0.3086 - accuracy: 0.8677\n",
      "Epoch 3/15\n",
      "348/348 [==============================] - 0s 1ms/step - loss: 0.2961 - accuracy: 0.8727\n",
      "Epoch 4/15\n",
      "348/348 [==============================] - 0s 1ms/step - loss: 0.2867 - accuracy: 0.8774\n",
      "Epoch 5/15\n",
      "348/348 [==============================] - 0s 1ms/step - loss: 0.2776 - accuracy: 0.8803\n",
      "Epoch 6/15\n",
      "348/348 [==============================] - 0s 1ms/step - loss: 0.2695 - accuracy: 0.8832\n",
      "Epoch 7/15\n",
      "348/348 [==============================] - 0s 1ms/step - loss: 0.2627 - accuracy: 0.8867\n",
      "Epoch 8/15\n",
      "348/348 [==============================] - 0s 1ms/step - loss: 0.2568 - accuracy: 0.8902\n",
      "Epoch 9/15\n",
      "348/348 [==============================] - 0s 1ms/step - loss: 0.2509 - accuracy: 0.8926\n",
      "Epoch 10/15\n",
      "348/348 [==============================] - 0s 1ms/step - loss: 0.2464 - accuracy: 0.8943\n",
      "Epoch 11/15\n",
      "348/348 [==============================] - 0s 1ms/step - loss: 0.2412 - accuracy: 0.8969\n",
      "Epoch 12/15\n",
      "348/348 [==============================] - 0s 1ms/step - loss: 0.2381 - accuracy: 0.8974\n",
      "Epoch 13/15\n",
      "348/348 [==============================] - 0s 1ms/step - loss: 0.2336 - accuracy: 0.9016\n",
      "Epoch 14/15\n",
      "348/348 [==============================] - 0s 1ms/step - loss: 0.2300 - accuracy: 0.9024\n",
      "Epoch 15/15\n",
      "348/348 [==============================] - 0s 1ms/step - loss: 0.2266 - accuracy: 0.9033\n"
     ]
    },
    {
     "data": {
      "text/plain": [
       "<keras.callbacks.History at 0x15f74d6d0>"
      ]
     },
     "execution_count": 236,
     "metadata": {},
     "output_type": "execute_result"
    }
   ],
   "source": [
    "model.fit(Tweet_2, Label_2, epochs=15)"
   ]
  },
  {
   "cell_type": "code",
   "execution_count": 249,
   "id": "herbal-rugby",
   "metadata": {},
   "outputs": [
    {
     "data": {
      "text/plain": [
       "array([[0.98605657, 0.01394342]], dtype=float32)"
      ]
     },
     "execution_count": 249,
     "metadata": {},
     "output_type": "execute_result"
    }
   ],
   "source": [
    "model.predict(Tweet_2[7000:7001])"
   ]
  },
  {
   "cell_type": "code",
   "execution_count": 243,
   "id": "qualified-illustration",
   "metadata": {
    "scrolled": true
   },
   "outputs": [
    {
     "data": {
      "text/plain": [
       "Index(['federal', 'engineers', 'sea', 'going', 'doesnt', 'purposetour',\n",
       "       'america', 'model', 'health', 'boca',\n",
       "       ...\n",
       "       'countries', 'evafoxu', 'welcome', 'boards', 'join', 'la', 'guys',\n",
       "       'guess', 'taylorlurking', 'are'],\n",
       "      dtype='object', length=961)"
      ]
     },
     "execution_count": 243,
     "metadata": {},
     "output_type": "execute_result"
    }
   ],
   "source": [
    "Data_train.columns"
   ]
  },
  {
   "cell_type": "code",
   "execution_count": 251,
   "id": "valuable-raising",
   "metadata": {},
   "outputs": [
    {
     "data": {
      "text/plain": [
       "['hello', 'my', 'name', 'is', '', '', 'elon']"
      ]
     },
     "execution_count": 251,
     "metadata": {},
     "output_type": "execute_result"
    }
   ],
   "source": [
    "T = \"hello my name is   elon\"\n",
    "Texte = T.split(\" \")\n",
    "Texte"
   ]
  },
  {
   "cell_type": "code",
   "execution_count": 252,
   "id": "tutorial-anniversary",
   "metadata": {},
   "outputs": [
    {
     "name": "stdout",
     "output_type": "stream",
     "text": [
      "Index =  0  Value =  hello\n",
      "Index =  1  Value =  my\n",
      "Index =  2  Value =  name\n",
      "Index =  3  Value =  is\n",
      "Index =  4  Value =  \n",
      "Index =  5  Value =  \n",
      "Index =  6  Value =  elon\n"
     ]
    }
   ],
   "source": [
    "for index, value in enumerate(Texte):\n",
    "    print(\"Index = \", index, \" Value = \", value)"
   ]
  },
  {
   "cell_type": "code",
   "execution_count": null,
   "id": "armed-punch",
   "metadata": {},
   "outputs": [],
   "source": [
    "def Vectorisation(Data_train, tweet):   #prend un tweet en argument sous la forme d'une string et renvoi son vecteur sous forme d'une database dans l espace vectoriel de la matrice\n",
    "    Vecteurs = Data_train.columns\n",
    "    row = []\n",
    "    \n",
    "    dictionnary = dict()\n",
    "    for mot in Vecteurs:\n",
    "        dictionnary[mot] = 0\n",
    "    \n",
    "    Mot_tweet = tweet.split(\" \")\n",
    "    \n",
    "    for mot in Mot_tweet::\n",
    "            \n",
    "    \n",
    "    \n",
    "    "
   ]
  },
  {
   "cell_type": "code",
   "execution_count": 253,
   "id": "imposed-traffic",
   "metadata": {},
   "outputs": [
    {
     "data": {
      "text/plain": [
       "1"
      ]
     },
     "execution_count": 253,
     "metadata": {},
     "output_type": "execute_result"
    }
   ],
   "source": [
    "int(True)"
   ]
  }
 ],
 "metadata": {
  "kernelspec": {
   "display_name": "Python 3",
   "language": "python",
   "name": "python3"
  },
  "language_info": {
   "codemirror_mode": {
    "name": "ipython",
    "version": 3
   },
   "file_extension": ".py",
   "mimetype": "text/x-python",
   "name": "python",
   "nbconvert_exporter": "python",
   "pygments_lexer": "ipython3",
   "version": "3.9.1"
  }
 },
 "nbformat": 4,
 "nbformat_minor": 5
}
