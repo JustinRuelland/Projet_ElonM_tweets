{
 "cells": [
  {
   "cell_type": "code",
   "execution_count": 1,
   "id": "early-edgar",
   "metadata": {},
   "outputs": [],
   "source": [
    "import numpy as np\n",
    "import pandas as pd\n",
    "from pandas import DataFrame\n",
    "import os"
   ]
  },
  {
   "cell_type": "code",
   "execution_count": 2,
   "id": "adaptive-gross",
   "metadata": {},
   "outputs": [
    {
     "name": "stdout",
     "output_type": "stream",
     "text": [
      "['.DS_Store', 'DataNONEL_clean.csv', 'Clean_Tweets_EM.ipynb', 'README.md', 'Tweets_Not_ElonMusk.csv', '.gitignore', 'DataElon_clean.csv', 'Vectorisation.ipynb', '.ipynb_checkpoints', 'Clean_Tweets_NONEM.ipynb', '.git', 'TweetsElonMusk.csv']\n"
     ]
    }
   ],
   "source": [
    "arr = os.listdir('.')\n",
    "print(arr)"
   ]
  },
  {
   "cell_type": "code",
   "execution_count": 3,
   "id": "stuffed-onion",
   "metadata": {},
   "outputs": [
    {
     "name": "stdout",
     "output_type": "stream",
     "text": [
      "0\n"
     ]
    }
   ],
   "source": [
    "df_tweets_NONEL=pd.read_csv('Tweets_Not_ElonMusk.csv')\n",
    "df_tweets_NONEL[df_tweets_NONEL[\"author\"]==\"elonmusk\"]\n",
    "#Pas de Tweets d'Elon Musk dans la base\n",
    "print(len(df_tweets_NONEL[df_tweets_NONEL[\"author\"]==\"elonmusk\"]))"
   ]
  },
  {
   "cell_type": "code",
   "execution_count": 4,
   "id": "auburn-spokesman",
   "metadata": {},
   "outputs": [
    {
     "data": {
      "text/html": [
       "<div>\n",
       "<style scoped>\n",
       "    .dataframe tbody tr th:only-of-type {\n",
       "        vertical-align: middle;\n",
       "    }\n",
       "\n",
       "    .dataframe tbody tr th {\n",
       "        vertical-align: top;\n",
       "    }\n",
       "\n",
       "    .dataframe thead th {\n",
       "        text-align: right;\n",
       "    }\n",
       "</style>\n",
       "<table border=\"1\" class=\"dataframe\">\n",
       "  <thead>\n",
       "    <tr style=\"text-align: right;\">\n",
       "      <th></th>\n",
       "      <th>tweet</th>\n",
       "    </tr>\n",
       "  </thead>\n",
       "  <tbody>\n",
       "    <tr>\n",
       "      <th>0</th>\n",
       "      <td>Is history repeating itself...?#DONTNORMALIZEHATE</td>\n",
       "    </tr>\n",
       "    <tr>\n",
       "      <th>1</th>\n",
       "      <td>Life goals.</td>\n",
       "    </tr>\n",
       "    <tr>\n",
       "      <th>2</th>\n",
       "      <td>Me right now 🙏🏻</td>\n",
       "    </tr>\n",
       "    <tr>\n",
       "      <th>3</th>\n",
       "      <td>SISTERS ARE DOIN' IT FOR THEMSELVES! 🙌🏻💪🏻❤️</td>\n",
       "    </tr>\n",
       "    <tr>\n",
       "      <th>4</th>\n",
       "      <td>Kyoto, Japan 1. 5. 17.</td>\n",
       "    </tr>\n",
       "  </tbody>\n",
       "</table>\n",
       "</div>"
      ],
      "text/plain": [
       "                                               tweet\n",
       "0  Is history repeating itself...?#DONTNORMALIZEHATE\n",
       "1                                        Life goals.\n",
       "2                                    Me right now 🙏🏻\n",
       "3        SISTERS ARE DOIN' IT FOR THEMSELVES! 🙌🏻💪🏻❤️\n",
       "4                             Kyoto, Japan 1. 5. 17."
      ]
     },
     "execution_count": 4,
     "metadata": {},
     "output_type": "execute_result"
    }
   ],
   "source": [
    "df_tweets_NONEL.drop(columns=df_tweets_NONEL.columns[2:10], inplace=True)\n",
    "df_tweets_NONEL.drop(columns=df_tweets_NONEL.columns[0], inplace=True)\n",
    "df_tweets_NONEL.rename(columns = {'content':'tweet'}, inplace=True)\n",
    "\n",
    "for i in df_tweets_NONEL.index:\n",
    "    if \"@\" in str(df_tweets_NONEL[\"tweet\"][i]):\n",
    "        df_tweets_NONEL.drop(labels=i, axis=0, inplace=True)\n",
    "    else:\n",
    "        x=df_tweets_NONEL[\"tweet\"][i].split()\n",
    "        x=x[:len(x)-1]\n",
    "        df_tweets_NONEL[\"tweet\"][i]=' '.join(x)\n",
    "df_tweets_NONEL.reset_index(drop=True, inplace=True)\n",
    "df_tweets_NONEL.head()"
   ]
  },
  {
   "cell_type": "code",
   "execution_count": 5,
   "id": "rapid-tracy",
   "metadata": {},
   "outputs": [],
   "source": [
    "df_tweets_NONEL.to_csv(\"DataNONEL_clean.csv\", index=False)"
   ]
  }
 ],
 "metadata": {
  "kernelspec": {
   "display_name": "Python 3",
   "language": "python",
   "name": "python3"
  },
  "language_info": {
   "codemirror_mode": {
    "name": "ipython",
    "version": 3
   },
   "file_extension": ".py",
   "mimetype": "text/x-python",
   "name": "python",
   "nbconvert_exporter": "python",
   "pygments_lexer": "ipython3",
   "version": "3.9.1"
  }
 },
 "nbformat": 4,
 "nbformat_minor": 5
}
