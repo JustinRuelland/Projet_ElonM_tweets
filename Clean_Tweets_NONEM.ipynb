{
 "cells": [
  {
   "cell_type": "code",
   "execution_count": 1,
   "id": "early-edgar",
   "metadata": {},
   "outputs": [],
   "source": [
    "import numpy as np\n",
    "import pandas as pd\n",
    "from pandas import DataFrame\n",
    "import os"
   ]
  },
  {
   "cell_type": "code",
   "execution_count": 2,
   "id": "adaptive-gross",
   "metadata": {},
   "outputs": [
    {
     "name": "stdout",
     "output_type": "stream",
     "text": [
      "['.DS_Store', 'DataNONEL_clean.csv', 'Clean_Tweets_EM.ipynb', 'README.md', 'Tweets_Not_ElonMusk.csv', '.gitignore', 'DataElon_clean.csv', 'Vectorisation.ipynb', '.ipynb_checkpoints', 'Clean_Tweets_NONEM.ipynb', '.git', 'TweetsElonMusk.csv']\n"
     ]
    }
   ],
   "source": [
    "arr = os.listdir('.')\n",
    "print(arr)"
   ]
  },
  {
   "cell_type": "markdown",
   "id": "c38bfcb7",
   "metadata": {},
   "source": [
    "Ce notebook permet d'importer la base de données de tweets correspondant aux tweets des 20 personnalités, n'incluant pas Elon Musk, et commence un nettoyage basique des données"
   ]
  },
  {
   "cell_type": "code",
   "execution_count": 3,
   "id": "stuffed-onion",
   "metadata": {},
   "outputs": [
    {
     "name": "stdout",
     "output_type": "stream",
     "text": [
      "0\n"
     ]
    }
   ],
   "source": [
    "df_tweets_NONEL=pd.read_csv('Tweets_Not_ElonMusk.csv')\n",
    "df_tweets_NONEL[df_tweets_NONEL[\"author\"]==\"elonmusk\"]\n",
    "#Pas de Tweets d'Elon Musk dans la base\n",
    "print(len(df_tweets_NONEL[df_tweets_NONEL[\"author\"]==\"elonmusk\"]))"
   ]
  },
  {
   "cell_type": "code",
   "execution_count": null,
   "id": "24c584d3",
   "metadata": {},
   "outputs": [],
   "source": [
    "df_tweets_NONEL.drop(columns=df_tweets_NONEL.columns[2:10], inplace=True)\n",
    "df_tweets_NONEL.drop(columns=df_tweets_NONEL.columns[0], inplace=True)\n",
    "df_tweets_NONEL.rename(columns = {'content':'tweet'}, inplace=True)\n",
    "\n",
    "for i in df_tweets_NONEL.index:\n",
    "    if \"@\" in str(df_tweets_NONEL[\"tweet\"][i]):\n",
    "        df_tweets_NONEL.drop(labels=i, axis=0, inplace=True)\n",
    "    else:\n",
    "        x=df_tweets_NONEL[\"tweet\"][i].split()\n",
    "        x=x[:len(x)-1]\n",
    "        df_tweets_NONEL[\"tweet\"][i]=' '.join(x)\n",
    "df_tweets_NONEL.reset_index(drop=True, inplace=True)"
   ]
  },
  {
   "cell_type": "code",
   "execution_count": 5,
   "id": "rapid-tracy",
   "metadata": {},
   "outputs": [],
   "source": [
    "df_tweets_NONEL.to_csv(\"DataNONEL_clean.csv\", index=False)"
   ]
  }
 ],
 "metadata": {
  "kernelspec": {
   "display_name": "Python 3 (ipykernel)",
   "language": "python",
   "name": "python3"
  },
  "language_info": {
   "codemirror_mode": {
    "name": "ipython",
    "version": 3
   },
   "file_extension": ".py",
   "mimetype": "text/x-python",
   "name": "python",
   "nbconvert_exporter": "python",
   "pygments_lexer": "ipython3",
   "version": "3.9.7"
  }
 },
 "nbformat": 4,
 "nbformat_minor": 5
}
