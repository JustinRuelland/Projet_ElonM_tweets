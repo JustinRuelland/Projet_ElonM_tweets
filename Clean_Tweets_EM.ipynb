{
 "cells": [
  {
   "cell_type": "code",
   "execution_count": 1,
   "id": "digital-tuition",
   "metadata": {},
   "outputs": [],
   "source": [
    "import numpy as np\n",
    "import pandas as pd\n",
    "from pandas import DataFrame\n",
    "import os"
   ]
  },
  {
   "cell_type": "code",
   "execution_count": 2,
   "id": "cutting-quebec",
   "metadata": {
    "scrolled": true
   },
   "outputs": [
    {
     "name": "stdout",
     "output_type": "stream",
     "text": [
      "['.DS_Store', 'DataNONEL_clean.csv', 'Clean_Tweets_EM.ipynb', 'README.md', 'Tweets_Not_ElonMusk.csv', '.gitignore', 'DataElon_clean.csv', 'Vectorisation.ipynb', '.ipynb_checkpoints', 'Clean_Tweets_NONEM.ipynb', '.git', 'TweetsElonMusk.csv']\n"
     ]
    }
   ],
   "source": [
    "arr = os.listdir('.')\n",
    "print(arr)"
   ]
  },
  {
   "cell_type": "markdown",
   "id": "2092ddc9",
   "metadata": {},
   "source": [
    "Ce notebook permet d'importer la base de données de tweets correspondant à Elon Musk, et commence un nettoyage basique des données."
   ]
  },
  {
   "cell_type": "code",
   "execution_count": 3,
   "id": "different-tourist",
   "metadata": {},
   "outputs": [],
   "source": [
    "DataElon = pd.read_csv('TweetsElonMusk.csv')\n",
    "DataElon.head()\n",
    "L = ['created_at','date', 'time', 'timezone','username', 'name', 'place', 'language', 'mentions',\n",
    "       'urls', 'photos', 'replies_count', 'retweets_count', 'likes_count',\n",
    "       'hashtags', 'cashtags', 'retweet', 'quote_url', 'video',\n",
    "       'thumbnail', 'near', 'geo', 'source', 'user_rt_id', 'user_rt',\n",
    "       'retweet_id', 'retweet_date', 'translate', 'trans_src',\n",
    "       'trans_dest']\n",
    "DataElon.drop(columns = L, inplace = True)\n",
    "#DataElon.drop(index = DataElon[DataElon['reply_to'] != '[]'].index, inplace = True)\n",
    "DataElon.drop(columns = ['id', 'conversation_id', 'user_id', 'link', 'reply_to'], inplace= True)\n",
    "DataElon.reset_index(drop=True, inplace=True)\n",
    "DataElon.to_csv(\"DataElon_clean.csv\", index=False)"
   ]
  }
 ],
 "metadata": {
  "kernelspec": {
   "display_name": "Python 3 (ipykernel)",
   "language": "python",
   "name": "python3"
  },
  "language_info": {
   "codemirror_mode": {
    "name": "ipython",
    "version": 3
   },
   "file_extension": ".py",
   "mimetype": "text/x-python",
   "name": "python",
   "nbconvert_exporter": "python",
   "pygments_lexer": "ipython3",
   "version": "3.9.7"
  }
 },
 "nbformat": 4,
 "nbformat_minor": 5
}
